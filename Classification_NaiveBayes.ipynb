{
 "cells": [
  {
   "cell_type": "code",
   "execution_count": 29,
   "metadata": {},
   "outputs": [],
   "source": [
    "import pandas as pd\n",
    "import numpy as np\n",
    "import matplotlib.pyplot as plt\n",
    "import scipy.stats as stats\n",
    "import math\n",
    "import os"
   ]
  },
  {
   "cell_type": "code",
   "execution_count": 30,
   "metadata": {},
   "outputs": [],
   "source": [
    "# setting path for the relevant locations\n",
    "\n",
    "current_dir = os.getcwd()                      # current working directory\n",
    "parent_dir = os.path.dirname(current_dir)      # parent directory\n",
    "data_set = parent_dir+'/data'                  # setting the path for data directory"
   ]
  },
  {
   "cell_type": "code",
   "execution_count": 31,
   "metadata": {},
   "outputs": [],
   "source": [
    "#Reading the datasets and removing the 'Cost of Construction' feature as it doesn't give well separated classes\n",
    "train = pd.read_csv(data_set + '/ClassificationTrain.csv').drop(['Cost'], axis = 1)\n",
    "test = pd.read_csv(data_set + '/ClassificationTest.csv').drop(['Cost'], axis = 1)"
   ]
  },
  {
   "cell_type": "code",
   "execution_count": 32,
   "metadata": {},
   "outputs": [],
   "source": [
    "#Including the 'Cost of Maintainence' feature which gives well separated classes\n",
    "df = pd.read_csv(data_set + '/Cost_of_maintainence.csv')\n",
    "costMaintainence = df.groupby('District')['No. of Dugwells according to the annual cost of maintenance - Upto Rs. 1000',\n",
    "       'No. of Dugwells according to the annual cost of maintenance - Rs.1000 to 10000 ',\n",
    "       'No. of Dugwells according to the annual cost of maintenance - Rs.10000 to 50000',\n",
    "       'No. of Dugwells according to the annual cost of maintenance - Rs.50000 to 100000',\n",
    "       'No. of Dugwells according to the annual cost of maintenance - More than Rs. 100000'].sum()\n",
    "costMaintainence['total'] = costMaintainence['No. of Dugwells according to the annual cost of maintenance - Upto Rs. 1000'] + costMaintainence['No. of Dugwells according to the annual cost of maintenance - Rs.1000 to 10000 '] + costMaintainence['No. of Dugwells according to the annual cost of maintenance - Rs.10000 to 50000'] + costMaintainence['No. of Dugwells according to the annual cost of maintenance - Rs.50000 to 100000'] + costMaintainence['No. of Dugwells according to the annual cost of maintenance - More than Rs. 100000']  \n",
    "costMaintainence['total_cost'] = 1000*costMaintainence['No. of Dugwells according to the annual cost of maintenance - Upto Rs. 1000'] + 5500*costMaintainence['No. of Dugwells according to the annual cost of maintenance - Rs.1000 to 10000 '] + 30000*costMaintainence['No. of Dugwells according to the annual cost of maintenance - Rs.10000 to 50000'] + 75000*costMaintainence['No. of Dugwells according to the annual cost of maintenance - Rs.50000 to 100000'] + 100000*costMaintainence['No. of Dugwells according to the annual cost of maintenance - More than Rs. 100000']\n",
    "costMaintainence['avg_cost'] = costMaintainence['total_cost']/costMaintainence['total']"
   ]
  },
  {
   "cell_type": "code",
   "execution_count": 33,
   "metadata": {},
   "outputs": [],
   "source": [
    "#Including the 'Mechanical Break Down - No.' feature to get better classes\n",
    "df1 = pd.read_csv(data_set + '/Constraints.csv')\n",
    "breakdown = df1.groupby('District')['Mechanical Break Down - No.'].sum()"
   ]
  },
  {
   "cell_type": "code",
   "execution_count": 34,
   "metadata": {},
   "outputs": [],
   "source": [
    "#Merging the train antest datasets with the new features\n",
    "trainBreakdown = train.merge(breakdown, on = 'District')\n",
    "trainUpdated = trainBreakdown.merge(costMaintainence['avg_cost'], on = 'District')\n",
    "testBreakdown = test.merge(breakdown, on = 'District')\n",
    "testUpdated = testBreakdown.merge(costMaintainence['avg_cost'], on = 'District')"
   ]
  },
  {
   "cell_type": "code",
   "execution_count": 35,
   "metadata": {},
   "outputs": [],
   "source": [
    "#Normalizing the 'Mechanical Break Down - No.' feature\n",
    "max_breakdown = trainUpdated['Mechanical Break Down - No.'].max()\n",
    "min_breakdown = trainUpdated['Mechanical Break Down - No.'].min()\n",
    "diff = max_breakdown - min_breakdown\n",
    "trainUpdated['Mechanical Break Down - No.'] = (trainUpdated['Mechanical Break Down - No.']-min_breakdown)/diff\n",
    "max_breakdown = testUpdated['Mechanical Break Down - No.'].max()\n",
    "min_breakdown = testUpdated['Mechanical Break Down - No.'].min()\n",
    "diff = max_breakdown - min_breakdown\n",
    "testUpdated['Mechanical Break Down - No.'] = (testUpdated['Mechanical Break Down - No.']-min_breakdown)/diff"
   ]
  },
  {
   "cell_type": "code",
   "execution_count": 36,
   "metadata": {
    "scrolled": true
   },
   "outputs": [],
   "source": [
    "#Binning the 'Cost of maintainence feature' into 2 classes: <7500 and >7500 i.e. low cost and high cost\n",
    "bins = [0, 7500]\n",
    "names = ['<7500', '>7500']\n",
    "d = dict(enumerate(names, 1))\n",
    "trainUpdated['Cost_Class'] = np.vectorize(d.get)(np.digitize(trainUpdated['avg_cost'], bins))\n",
    "testUpdated['Cost_Class'] = np.vectorize(d.get)(np.digitize(testUpdated['avg_cost'], bins))"
   ]
  },
  {
   "cell_type": "code",
   "execution_count": 37,
   "metadata": {},
   "outputs": [],
   "source": [
    "#Labelling low cost class as 0 and high cost class as 1\n",
    "trainFinal = trainUpdated.replace('<7500',0).replace('>7500',1).drop(['avg_cost'], axis = 1)\n",
    "testFinal = testUpdated.replace('<7500',0).replace('>7500',1).drop(['avg_cost'], axis = 1)"
   ]
  },
  {
   "cell_type": "code",
   "execution_count": 43,
   "metadata": {},
   "outputs": [
    {
     "ename": "TypeError",
     "evalue": "Could not convert HIGHMEDIUMHIGHMEDIUMHIGHHIGHMEDIUMLOWLOWMEDIUMHIGHHIGHMEDIUMHIGHMEDIUMHIGHMEDIUMHIGHLOWLOWMEDIUMMEDIUMHIGHLOWLOWLOWMEDIUMMEDIUMHIGHMEDIUMMEDIUMHIGHMEDIUMHIGHHIGHHIGHLOWHIGHMEDIUMLOWHIGHMEDIUMHIGHMEDIUMMEDIUMMEDIUMLOWHIGHHIGHMEDIUMLOWLOWMEDIUMMEDIUMMEDIUMMEDIUMHIGHMEDIUMHIGHHIGHLOWHIGHMEDIUMMEDIUMMEDIUMMEDIUMLOWMEDIUMLOWMEDIUMMEDIUMHIGHLOWMEDIUMMEDIUMMEDIUMHIGHLOWMEDIUMLOWHIGHMEDIUMMEDIUMHIGHLOWMEDIUMMEDIUMLOWMEDIUMMEDIUMMEDIUMHIGHMEDIUMLOWMEDIUMMEDIUMHIGHMEDIUMMEDIUMLOWLOWLOWHIGHHIGHHIGHHIGHLOWMEDIUMMEDIUMMEDIUMMEDIUMHIGHMEDIUMHIGHHIGHLOWMEDIUMMEDIUMLOWHIGHMEDIUMMEDIUMMEDIUMMEDIUMLOWMEDIUMHIGHMEDIUMHIGHLOWLOWMEDIUMMEDIUMMEDIUMLOWLOWMEDIUMMEDIUMHIGHMEDIUMMEDIUMHIGHMEDIUMHIGHHIGHMEDIUMMEDIUMHIGHMEDIUMMEDIUMMEDIUMHIGHMEDIUMMEDIUMHIGHHIGHMEDIUMHIGHHIGHLOWHIGHLOWMEDIUMLOWHIGHHIGHHIGHHIGHHIGH to numeric",
     "output_type": "error",
     "traceback": [
      "\u001b[1;31m---------------------------------------------------------------------------\u001b[0m",
      "\u001b[1;31mValueError\u001b[0m                                Traceback (most recent call last)",
      "\u001b[1;32m~\\Anaconda3\\lib\\site-packages\\pandas\\core\\nanops.py\u001b[0m in \u001b[0;36m_ensure_numeric\u001b[1;34m(x)\u001b[0m\n\u001b[0;32m   1163\u001b[0m         \u001b[1;32mtry\u001b[0m\u001b[1;33m:\u001b[0m\u001b[1;33m\u001b[0m\u001b[1;33m\u001b[0m\u001b[0m\n\u001b[1;32m-> 1164\u001b[1;33m             \u001b[0mx\u001b[0m \u001b[1;33m=\u001b[0m \u001b[0mfloat\u001b[0m\u001b[1;33m(\u001b[0m\u001b[0mx\u001b[0m\u001b[1;33m)\u001b[0m\u001b[1;33m\u001b[0m\u001b[1;33m\u001b[0m\u001b[0m\n\u001b[0m\u001b[0;32m   1165\u001b[0m         \u001b[1;32mexcept\u001b[0m \u001b[0mException\u001b[0m\u001b[1;33m:\u001b[0m\u001b[1;33m\u001b[0m\u001b[1;33m\u001b[0m\u001b[0m\n",
      "\u001b[1;31mValueError\u001b[0m: could not convert string to float: 'HIGHMEDIUMHIGHMEDIUMHIGHHIGHMEDIUMLOWLOWMEDIUMHIGHHIGHMEDIUMHIGHMEDIUMHIGHMEDIUMHIGHLOWLOWMEDIUMMEDIUMHIGHLOWLOWLOWMEDIUMMEDIUMHIGHMEDIUMMEDIUMHIGHMEDIUMHIGHHIGHHIGHLOWHIGHMEDIUMLOWHIGHMEDIUMHIGHMEDIUMMEDIUMMEDIUMLOWHIGHHIGHMEDIUMLOWLOWMEDIUMMEDIUMMEDIUMMEDIUMHIGHMEDIUMHIGHHIGHLOWHIGHMEDIUMMEDIUMMEDIUMMEDIUMLOWMEDIUMLOWMEDIUMMEDIUMHIGHLOWMEDIUMMEDIUMMEDIUMHIGHLOWMEDIUMLOWHIGHMEDIUMMEDIUMHIGHLOWMEDIUMMEDIUMLOWMEDIUMMEDIUMMEDIUMHIGHMEDIUMLOWMEDIUMMEDIUMHIGHMEDIUMMEDIUMLOWLOWLOWHIGHHIGHHIGHHIGHLOWMEDIUMMEDIUMMEDIUMMEDIUMHIGHMEDIUMHIGHHIGHLOWMEDIUMMEDIUMLOWHIGHMEDIUMMEDIUMMEDIUMMEDIUMLOWMEDIUMHIGHMEDIUMHIGHLOWLOWMEDIUMMEDIUMMEDIUMLOWLOWMEDIUMMEDIUMHIGHMEDIUMMEDIUMHIGHMEDIUMHIGHHIGHMEDIUMMEDIUMHIGHMEDIUMMEDIUMMEDIUMHIGHMEDIUMMEDIUMHIGHHIGHMEDIUMHIGHHIGHLOWHIGHLOWMEDIUMLOWHIGHHIGHHIGHHIGHHIGH'",
      "\nDuring handling of the above exception, another exception occurred:\n",
      "\u001b[1;31mValueError\u001b[0m                                Traceback (most recent call last)",
      "\u001b[1;32m~\\Anaconda3\\lib\\site-packages\\pandas\\core\\nanops.py\u001b[0m in \u001b[0;36m_ensure_numeric\u001b[1;34m(x)\u001b[0m\n\u001b[0;32m   1166\u001b[0m             \u001b[1;32mtry\u001b[0m\u001b[1;33m:\u001b[0m\u001b[1;33m\u001b[0m\u001b[1;33m\u001b[0m\u001b[0m\n\u001b[1;32m-> 1167\u001b[1;33m                 \u001b[0mx\u001b[0m \u001b[1;33m=\u001b[0m \u001b[0mcomplex\u001b[0m\u001b[1;33m(\u001b[0m\u001b[0mx\u001b[0m\u001b[1;33m)\u001b[0m\u001b[1;33m\u001b[0m\u001b[1;33m\u001b[0m\u001b[0m\n\u001b[0m\u001b[0;32m   1168\u001b[0m             \u001b[1;32mexcept\u001b[0m \u001b[0mException\u001b[0m\u001b[1;33m:\u001b[0m\u001b[1;33m\u001b[0m\u001b[1;33m\u001b[0m\u001b[0m\n",
      "\u001b[1;31mValueError\u001b[0m: complex() arg is a malformed string",
      "\nDuring handling of the above exception, another exception occurred:\n",
      "\u001b[1;31mTypeError\u001b[0m                                 Traceback (most recent call last)",
      "\u001b[1;32m~\\Anaconda3\\lib\\site-packages\\pandas\\core\\nanops.py\u001b[0m in \u001b[0;36mf\u001b[1;34m(values, axis, skipna, **kwds)\u001b[0m\n\u001b[0;32m    126\u001b[0m                 \u001b[1;32melse\u001b[0m\u001b[1;33m:\u001b[0m\u001b[1;33m\u001b[0m\u001b[1;33m\u001b[0m\u001b[0m\n\u001b[1;32m--> 127\u001b[1;33m                     \u001b[0mresult\u001b[0m \u001b[1;33m=\u001b[0m \u001b[0malt\u001b[0m\u001b[1;33m(\u001b[0m\u001b[0mvalues\u001b[0m\u001b[1;33m,\u001b[0m \u001b[0maxis\u001b[0m\u001b[1;33m=\u001b[0m\u001b[0maxis\u001b[0m\u001b[1;33m,\u001b[0m \u001b[0mskipna\u001b[0m\u001b[1;33m=\u001b[0m\u001b[0mskipna\u001b[0m\u001b[1;33m,\u001b[0m \u001b[1;33m**\u001b[0m\u001b[0mkwds\u001b[0m\u001b[1;33m)\u001b[0m\u001b[1;33m\u001b[0m\u001b[1;33m\u001b[0m\u001b[0m\n\u001b[0m\u001b[0;32m    128\u001b[0m             \u001b[1;32mexcept\u001b[0m \u001b[0mException\u001b[0m\u001b[1;33m:\u001b[0m\u001b[1;33m\u001b[0m\u001b[1;33m\u001b[0m\u001b[0m\n",
      "\u001b[1;32m~\\Anaconda3\\lib\\site-packages\\pandas\\core\\nanops.py\u001b[0m in \u001b[0;36mnanmean\u001b[1;34m(values, axis, skipna, mask)\u001b[0m\n\u001b[0;32m    478\u001b[0m     \u001b[0mcount\u001b[0m \u001b[1;33m=\u001b[0m \u001b[0m_get_counts\u001b[0m\u001b[1;33m(\u001b[0m\u001b[0mmask\u001b[0m\u001b[1;33m,\u001b[0m \u001b[0maxis\u001b[0m\u001b[1;33m,\u001b[0m \u001b[0mdtype\u001b[0m\u001b[1;33m=\u001b[0m\u001b[0mdtype_count\u001b[0m\u001b[1;33m)\u001b[0m\u001b[1;33m\u001b[0m\u001b[1;33m\u001b[0m\u001b[0m\n\u001b[1;32m--> 479\u001b[1;33m     \u001b[0mthe_sum\u001b[0m \u001b[1;33m=\u001b[0m \u001b[0m_ensure_numeric\u001b[0m\u001b[1;33m(\u001b[0m\u001b[0mvalues\u001b[0m\u001b[1;33m.\u001b[0m\u001b[0msum\u001b[0m\u001b[1;33m(\u001b[0m\u001b[0maxis\u001b[0m\u001b[1;33m,\u001b[0m \u001b[0mdtype\u001b[0m\u001b[1;33m=\u001b[0m\u001b[0mdtype_sum\u001b[0m\u001b[1;33m)\u001b[0m\u001b[1;33m)\u001b[0m\u001b[1;33m\u001b[0m\u001b[1;33m\u001b[0m\u001b[0m\n\u001b[0m\u001b[0;32m    480\u001b[0m \u001b[1;33m\u001b[0m\u001b[0m\n",
      "\u001b[1;32m~\\Anaconda3\\lib\\site-packages\\pandas\\core\\nanops.py\u001b[0m in \u001b[0;36m_ensure_numeric\u001b[1;34m(x)\u001b[0m\n\u001b[0;32m   1169\u001b[0m                 raise TypeError('Could not convert {value!s} to numeric'\n\u001b[1;32m-> 1170\u001b[1;33m                                 .format(value=x))\n\u001b[0m\u001b[0;32m   1171\u001b[0m     \u001b[1;32mreturn\u001b[0m \u001b[0mx\u001b[0m\u001b[1;33m\u001b[0m\u001b[1;33m\u001b[0m\u001b[0m\n",
      "\u001b[1;31mTypeError\u001b[0m: Could not convert HIGHMEDIUMHIGHMEDIUMHIGHHIGHMEDIUMLOWLOWMEDIUMHIGHHIGHMEDIUMHIGHMEDIUMHIGHMEDIUMHIGHLOWLOWMEDIUMMEDIUMHIGHLOWLOWLOWMEDIUMMEDIUMHIGHMEDIUMMEDIUMHIGHMEDIUMHIGHHIGHHIGHLOWHIGHMEDIUMLOWHIGHMEDIUMHIGHMEDIUMMEDIUMMEDIUMLOWHIGHHIGHMEDIUMLOWLOWMEDIUMMEDIUMMEDIUMMEDIUMHIGHMEDIUMHIGHHIGHLOWHIGHMEDIUMMEDIUMMEDIUMMEDIUMLOWMEDIUMLOWMEDIUMMEDIUMHIGHLOWMEDIUMMEDIUMMEDIUMHIGHLOWMEDIUMLOWHIGHMEDIUMMEDIUMHIGHLOWMEDIUMMEDIUMLOWMEDIUMMEDIUMMEDIUMHIGHMEDIUMLOWMEDIUMMEDIUMHIGHMEDIUMMEDIUMLOWLOWLOWHIGHHIGHHIGHHIGHLOWMEDIUMMEDIUMMEDIUMMEDIUMHIGHMEDIUMHIGHHIGHLOWMEDIUMMEDIUMLOWHIGHMEDIUMMEDIUMMEDIUMMEDIUMLOWMEDIUMHIGHMEDIUMHIGHLOWLOWMEDIUMMEDIUMMEDIUMLOWLOWMEDIUMMEDIUMHIGHMEDIUMMEDIUMHIGHMEDIUMHIGHHIGHMEDIUMMEDIUMHIGHMEDIUMMEDIUMMEDIUMHIGHMEDIUMMEDIUMHIGHHIGHMEDIUMHIGHHIGHLOWHIGHLOWMEDIUMLOWHIGHHIGHHIGHHIGHHIGH to numeric",
      "\nDuring handling of the above exception, another exception occurred:\n",
      "\u001b[1;31mValueError\u001b[0m                                Traceback (most recent call last)",
      "\u001b[1;32m~\\Anaconda3\\lib\\site-packages\\pandas\\core\\nanops.py\u001b[0m in \u001b[0;36m_ensure_numeric\u001b[1;34m(x)\u001b[0m\n\u001b[0;32m   1163\u001b[0m         \u001b[1;32mtry\u001b[0m\u001b[1;33m:\u001b[0m\u001b[1;33m\u001b[0m\u001b[1;33m\u001b[0m\u001b[0m\n\u001b[1;32m-> 1164\u001b[1;33m             \u001b[0mx\u001b[0m \u001b[1;33m=\u001b[0m \u001b[0mfloat\u001b[0m\u001b[1;33m(\u001b[0m\u001b[0mx\u001b[0m\u001b[1;33m)\u001b[0m\u001b[1;33m\u001b[0m\u001b[1;33m\u001b[0m\u001b[0m\n\u001b[0m\u001b[0;32m   1165\u001b[0m         \u001b[1;32mexcept\u001b[0m \u001b[0mException\u001b[0m\u001b[1;33m:\u001b[0m\u001b[1;33m\u001b[0m\u001b[1;33m\u001b[0m\u001b[0m\n",
      "\u001b[1;31mValueError\u001b[0m: could not convert string to float: 'HIGHMEDIUMHIGHMEDIUMHIGHHIGHMEDIUMLOWLOWMEDIUMHIGHHIGHMEDIUMHIGHMEDIUMHIGHMEDIUMHIGHLOWLOWMEDIUMMEDIUMHIGHLOWLOWLOWMEDIUMMEDIUMHIGHMEDIUMMEDIUMHIGHMEDIUMHIGHHIGHHIGHLOWHIGHMEDIUMLOWHIGHMEDIUMHIGHMEDIUMMEDIUMMEDIUMLOWHIGHHIGHMEDIUMLOWLOWMEDIUMMEDIUMMEDIUMMEDIUMHIGHMEDIUMHIGHHIGHLOWHIGHMEDIUMMEDIUMMEDIUMMEDIUMLOWMEDIUMLOWMEDIUMMEDIUMHIGHLOWMEDIUMMEDIUMMEDIUMHIGHLOWMEDIUMLOWHIGHMEDIUMMEDIUMHIGHLOWMEDIUMMEDIUMLOWMEDIUMMEDIUMMEDIUMHIGHMEDIUMLOWMEDIUMMEDIUMHIGHMEDIUMMEDIUMLOWLOWLOWHIGHHIGHHIGHHIGHLOWMEDIUMMEDIUMMEDIUMMEDIUMHIGHMEDIUMHIGHHIGHLOWMEDIUMMEDIUMLOWHIGHMEDIUMMEDIUMMEDIUMMEDIUMLOWMEDIUMHIGHMEDIUMHIGHLOWLOWMEDIUMMEDIUMMEDIUMLOWLOWMEDIUMMEDIUMHIGHMEDIUMMEDIUMHIGHMEDIUMHIGHHIGHMEDIUMMEDIUMHIGHMEDIUMMEDIUMMEDIUMHIGHMEDIUMMEDIUMHIGHHIGHMEDIUMHIGHHIGHLOWHIGHLOWMEDIUMLOWHIGHHIGHHIGHHIGHHIGH'",
      "\nDuring handling of the above exception, another exception occurred:\n",
      "\u001b[1;31mValueError\u001b[0m                                Traceback (most recent call last)",
      "\u001b[1;32m~\\Anaconda3\\lib\\site-packages\\pandas\\core\\nanops.py\u001b[0m in \u001b[0;36m_ensure_numeric\u001b[1;34m(x)\u001b[0m\n\u001b[0;32m   1166\u001b[0m             \u001b[1;32mtry\u001b[0m\u001b[1;33m:\u001b[0m\u001b[1;33m\u001b[0m\u001b[1;33m\u001b[0m\u001b[0m\n\u001b[1;32m-> 1167\u001b[1;33m                 \u001b[0mx\u001b[0m \u001b[1;33m=\u001b[0m \u001b[0mcomplex\u001b[0m\u001b[1;33m(\u001b[0m\u001b[0mx\u001b[0m\u001b[1;33m)\u001b[0m\u001b[1;33m\u001b[0m\u001b[1;33m\u001b[0m\u001b[0m\n\u001b[0m\u001b[0;32m   1168\u001b[0m             \u001b[1;32mexcept\u001b[0m \u001b[0mException\u001b[0m\u001b[1;33m:\u001b[0m\u001b[1;33m\u001b[0m\u001b[1;33m\u001b[0m\u001b[0m\n",
      "\u001b[1;31mValueError\u001b[0m: complex() arg is a malformed string",
      "\nDuring handling of the above exception, another exception occurred:\n",
      "\u001b[1;31mTypeError\u001b[0m                                 Traceback (most recent call last)",
      "\u001b[1;32m<ipython-input-43-e059c909cfaa>\u001b[0m in \u001b[0;36m<module>\u001b[1;34m\u001b[0m\n\u001b[0;32m      5\u001b[0m \u001b[0mstats_1\u001b[0m \u001b[1;33m=\u001b[0m \u001b[1;33m[\u001b[0m\u001b[1;33m]\u001b[0m\u001b[1;33m\u001b[0m\u001b[1;33m\u001b[0m\u001b[0m\n\u001b[0;32m      6\u001b[0m \u001b[1;32mfor\u001b[0m \u001b[1;33m(\u001b[0m\u001b[0mcolumnName\u001b[0m\u001b[1;33m,\u001b[0m \u001b[0mcolumnData\u001b[0m\u001b[1;33m)\u001b[0m \u001b[1;32min\u001b[0m \u001b[0mtrain_0\u001b[0m\u001b[1;33m.\u001b[0m\u001b[0miteritems\u001b[0m\u001b[1;33m(\u001b[0m\u001b[1;33m)\u001b[0m\u001b[1;33m:\u001b[0m\u001b[1;33m\u001b[0m\u001b[1;33m\u001b[0m\u001b[0m\n\u001b[1;32m----> 7\u001b[1;33m     \u001b[0mcolumn_stat\u001b[0m \u001b[1;33m=\u001b[0m \u001b[1;33m[\u001b[0m\u001b[0mnp\u001b[0m\u001b[1;33m.\u001b[0m\u001b[0mmean\u001b[0m\u001b[1;33m(\u001b[0m\u001b[0mcolumnData\u001b[0m\u001b[1;33m)\u001b[0m\u001b[1;33m,\u001b[0m \u001b[0mnp\u001b[0m\u001b[1;33m.\u001b[0m\u001b[0mstd\u001b[0m\u001b[1;33m(\u001b[0m\u001b[0mcolumnData\u001b[0m\u001b[1;33m)\u001b[0m\u001b[1;33m]\u001b[0m\u001b[1;33m\u001b[0m\u001b[1;33m\u001b[0m\u001b[0m\n\u001b[0m\u001b[0;32m      8\u001b[0m     \u001b[0mstats_0\u001b[0m\u001b[1;33m.\u001b[0m\u001b[0mappend\u001b[0m\u001b[1;33m(\u001b[0m\u001b[0mcolumn_stat\u001b[0m\u001b[1;33m)\u001b[0m\u001b[1;33m\u001b[0m\u001b[1;33m\u001b[0m\u001b[0m\n\u001b[0;32m      9\u001b[0m \u001b[1;32mfor\u001b[0m \u001b[1;33m(\u001b[0m\u001b[0mcolumnName\u001b[0m\u001b[1;33m,\u001b[0m \u001b[0mcolumnData\u001b[0m\u001b[1;33m)\u001b[0m \u001b[1;32min\u001b[0m \u001b[0mtrain_1\u001b[0m\u001b[1;33m.\u001b[0m\u001b[0miteritems\u001b[0m\u001b[1;33m(\u001b[0m\u001b[1;33m)\u001b[0m\u001b[1;33m:\u001b[0m\u001b[1;33m\u001b[0m\u001b[1;33m\u001b[0m\u001b[0m\n",
      "\u001b[1;32m~\\Anaconda3\\lib\\site-packages\\numpy\\core\\fromnumeric.py\u001b[0m in \u001b[0;36mmean\u001b[1;34m(a, axis, dtype, out, keepdims)\u001b[0m\n\u001b[0;32m   3113\u001b[0m             \u001b[1;32mpass\u001b[0m\u001b[1;33m\u001b[0m\u001b[1;33m\u001b[0m\u001b[0m\n\u001b[0;32m   3114\u001b[0m         \u001b[1;32melse\u001b[0m\u001b[1;33m:\u001b[0m\u001b[1;33m\u001b[0m\u001b[1;33m\u001b[0m\u001b[0m\n\u001b[1;32m-> 3115\u001b[1;33m             \u001b[1;32mreturn\u001b[0m \u001b[0mmean\u001b[0m\u001b[1;33m(\u001b[0m\u001b[0maxis\u001b[0m\u001b[1;33m=\u001b[0m\u001b[0maxis\u001b[0m\u001b[1;33m,\u001b[0m \u001b[0mdtype\u001b[0m\u001b[1;33m=\u001b[0m\u001b[0mdtype\u001b[0m\u001b[1;33m,\u001b[0m \u001b[0mout\u001b[0m\u001b[1;33m=\u001b[0m\u001b[0mout\u001b[0m\u001b[1;33m,\u001b[0m \u001b[1;33m**\u001b[0m\u001b[0mkwargs\u001b[0m\u001b[1;33m)\u001b[0m\u001b[1;33m\u001b[0m\u001b[1;33m\u001b[0m\u001b[0m\n\u001b[0m\u001b[0;32m   3116\u001b[0m \u001b[1;33m\u001b[0m\u001b[0m\n\u001b[0;32m   3117\u001b[0m     return _methods._mean(a, axis=axis, dtype=dtype,\n",
      "\u001b[1;32m~\\Anaconda3\\lib\\site-packages\\pandas\\core\\generic.py\u001b[0m in \u001b[0;36mstat_func\u001b[1;34m(self, axis, skipna, level, numeric_only, **kwargs)\u001b[0m\n\u001b[0;32m  10954\u001b[0m                                       skipna=skipna)\n\u001b[0;32m  10955\u001b[0m         return self._reduce(f, name, axis=axis, skipna=skipna,\n\u001b[1;32m> 10956\u001b[1;33m                             numeric_only=numeric_only)\n\u001b[0m\u001b[0;32m  10957\u001b[0m \u001b[1;33m\u001b[0m\u001b[0m\n\u001b[0;32m  10958\u001b[0m     \u001b[1;32mreturn\u001b[0m \u001b[0mset_function_name\u001b[0m\u001b[1;33m(\u001b[0m\u001b[0mstat_func\u001b[0m\u001b[1;33m,\u001b[0m \u001b[0mname\u001b[0m\u001b[1;33m,\u001b[0m \u001b[0mcls\u001b[0m\u001b[1;33m)\u001b[0m\u001b[1;33m\u001b[0m\u001b[1;33m\u001b[0m\u001b[0m\n",
      "\u001b[1;32m~\\Anaconda3\\lib\\site-packages\\pandas\\core\\series.py\u001b[0m in \u001b[0;36m_reduce\u001b[1;34m(self, op, name, axis, skipna, numeric_only, filter_type, **kwds)\u001b[0m\n\u001b[0;32m   3628\u001b[0m                                           'numeric_only.'.format(name))\n\u001b[0;32m   3629\u001b[0m             \u001b[1;32mwith\u001b[0m \u001b[0mnp\u001b[0m\u001b[1;33m.\u001b[0m\u001b[0merrstate\u001b[0m\u001b[1;33m(\u001b[0m\u001b[0mall\u001b[0m\u001b[1;33m=\u001b[0m\u001b[1;34m'ignore'\u001b[0m\u001b[1;33m)\u001b[0m\u001b[1;33m:\u001b[0m\u001b[1;33m\u001b[0m\u001b[1;33m\u001b[0m\u001b[0m\n\u001b[1;32m-> 3630\u001b[1;33m                 \u001b[1;32mreturn\u001b[0m \u001b[0mop\u001b[0m\u001b[1;33m(\u001b[0m\u001b[0mdelegate\u001b[0m\u001b[1;33m,\u001b[0m \u001b[0mskipna\u001b[0m\u001b[1;33m=\u001b[0m\u001b[0mskipna\u001b[0m\u001b[1;33m,\u001b[0m \u001b[1;33m**\u001b[0m\u001b[0mkwds\u001b[0m\u001b[1;33m)\u001b[0m\u001b[1;33m\u001b[0m\u001b[1;33m\u001b[0m\u001b[0m\n\u001b[0m\u001b[0;32m   3631\u001b[0m \u001b[1;33m\u001b[0m\u001b[0m\n\u001b[0;32m   3632\u001b[0m         \u001b[1;31m# TODO(EA) dispatch to Index\u001b[0m\u001b[1;33m\u001b[0m\u001b[1;33m\u001b[0m\u001b[1;33m\u001b[0m\u001b[0m\n",
      "\u001b[1;32m~\\Anaconda3\\lib\\site-packages\\pandas\\core\\nanops.py\u001b[0m in \u001b[0;36m_f\u001b[1;34m(*args, **kwargs)\u001b[0m\n\u001b[0;32m     74\u001b[0m             \u001b[1;32mtry\u001b[0m\u001b[1;33m:\u001b[0m\u001b[1;33m\u001b[0m\u001b[1;33m\u001b[0m\u001b[0m\n\u001b[0;32m     75\u001b[0m                 \u001b[1;32mwith\u001b[0m \u001b[0mnp\u001b[0m\u001b[1;33m.\u001b[0m\u001b[0merrstate\u001b[0m\u001b[1;33m(\u001b[0m\u001b[0minvalid\u001b[0m\u001b[1;33m=\u001b[0m\u001b[1;34m'ignore'\u001b[0m\u001b[1;33m)\u001b[0m\u001b[1;33m:\u001b[0m\u001b[1;33m\u001b[0m\u001b[1;33m\u001b[0m\u001b[0m\n\u001b[1;32m---> 76\u001b[1;33m                     \u001b[1;32mreturn\u001b[0m \u001b[0mf\u001b[0m\u001b[1;33m(\u001b[0m\u001b[1;33m*\u001b[0m\u001b[0margs\u001b[0m\u001b[1;33m,\u001b[0m \u001b[1;33m**\u001b[0m\u001b[0mkwargs\u001b[0m\u001b[1;33m)\u001b[0m\u001b[1;33m\u001b[0m\u001b[1;33m\u001b[0m\u001b[0m\n\u001b[0m\u001b[0;32m     77\u001b[0m             \u001b[1;32mexcept\u001b[0m \u001b[0mValueError\u001b[0m \u001b[1;32mas\u001b[0m \u001b[0me\u001b[0m\u001b[1;33m:\u001b[0m\u001b[1;33m\u001b[0m\u001b[1;33m\u001b[0m\u001b[0m\n\u001b[0;32m     78\u001b[0m                 \u001b[1;31m# we want to transform an object array\u001b[0m\u001b[1;33m\u001b[0m\u001b[1;33m\u001b[0m\u001b[1;33m\u001b[0m\u001b[0m\n",
      "\u001b[1;32m~\\Anaconda3\\lib\\site-packages\\pandas\\core\\nanops.py\u001b[0m in \u001b[0;36mf\u001b[1;34m(values, axis, skipna, **kwds)\u001b[0m\n\u001b[0;32m    128\u001b[0m             \u001b[1;32mexcept\u001b[0m \u001b[0mException\u001b[0m\u001b[1;33m:\u001b[0m\u001b[1;33m\u001b[0m\u001b[1;33m\u001b[0m\u001b[0m\n\u001b[0;32m    129\u001b[0m                 \u001b[1;32mtry\u001b[0m\u001b[1;33m:\u001b[0m\u001b[1;33m\u001b[0m\u001b[1;33m\u001b[0m\u001b[0m\n\u001b[1;32m--> 130\u001b[1;33m                     \u001b[0mresult\u001b[0m \u001b[1;33m=\u001b[0m \u001b[0malt\u001b[0m\u001b[1;33m(\u001b[0m\u001b[0mvalues\u001b[0m\u001b[1;33m,\u001b[0m \u001b[0maxis\u001b[0m\u001b[1;33m=\u001b[0m\u001b[0maxis\u001b[0m\u001b[1;33m,\u001b[0m \u001b[0mskipna\u001b[0m\u001b[1;33m=\u001b[0m\u001b[0mskipna\u001b[0m\u001b[1;33m,\u001b[0m \u001b[1;33m**\u001b[0m\u001b[0mkwds\u001b[0m\u001b[1;33m)\u001b[0m\u001b[1;33m\u001b[0m\u001b[1;33m\u001b[0m\u001b[0m\n\u001b[0m\u001b[0;32m    131\u001b[0m                 \u001b[1;32mexcept\u001b[0m \u001b[0mValueError\u001b[0m \u001b[1;32mas\u001b[0m \u001b[0me\u001b[0m\u001b[1;33m:\u001b[0m\u001b[1;33m\u001b[0m\u001b[1;33m\u001b[0m\u001b[0m\n\u001b[0;32m    132\u001b[0m                     \u001b[1;31m# we want to transform an object array\u001b[0m\u001b[1;33m\u001b[0m\u001b[1;33m\u001b[0m\u001b[1;33m\u001b[0m\u001b[0m\n",
      "\u001b[1;32m~\\Anaconda3\\lib\\site-packages\\pandas\\core\\nanops.py\u001b[0m in \u001b[0;36mnanmean\u001b[1;34m(values, axis, skipna, mask)\u001b[0m\n\u001b[0;32m    477\u001b[0m         \u001b[0mdtype_count\u001b[0m \u001b[1;33m=\u001b[0m \u001b[0mdtype\u001b[0m\u001b[1;33m\u001b[0m\u001b[1;33m\u001b[0m\u001b[0m\n\u001b[0;32m    478\u001b[0m     \u001b[0mcount\u001b[0m \u001b[1;33m=\u001b[0m \u001b[0m_get_counts\u001b[0m\u001b[1;33m(\u001b[0m\u001b[0mmask\u001b[0m\u001b[1;33m,\u001b[0m \u001b[0maxis\u001b[0m\u001b[1;33m,\u001b[0m \u001b[0mdtype\u001b[0m\u001b[1;33m=\u001b[0m\u001b[0mdtype_count\u001b[0m\u001b[1;33m)\u001b[0m\u001b[1;33m\u001b[0m\u001b[1;33m\u001b[0m\u001b[0m\n\u001b[1;32m--> 479\u001b[1;33m     \u001b[0mthe_sum\u001b[0m \u001b[1;33m=\u001b[0m \u001b[0m_ensure_numeric\u001b[0m\u001b[1;33m(\u001b[0m\u001b[0mvalues\u001b[0m\u001b[1;33m.\u001b[0m\u001b[0msum\u001b[0m\u001b[1;33m(\u001b[0m\u001b[0maxis\u001b[0m\u001b[1;33m,\u001b[0m \u001b[0mdtype\u001b[0m\u001b[1;33m=\u001b[0m\u001b[0mdtype_sum\u001b[0m\u001b[1;33m)\u001b[0m\u001b[1;33m)\u001b[0m\u001b[1;33m\u001b[0m\u001b[1;33m\u001b[0m\u001b[0m\n\u001b[0m\u001b[0;32m    480\u001b[0m \u001b[1;33m\u001b[0m\u001b[0m\n\u001b[0;32m    481\u001b[0m     \u001b[1;32mif\u001b[0m \u001b[0maxis\u001b[0m \u001b[1;32mis\u001b[0m \u001b[1;32mnot\u001b[0m \u001b[1;32mNone\u001b[0m \u001b[1;32mand\u001b[0m \u001b[0mgetattr\u001b[0m\u001b[1;33m(\u001b[0m\u001b[0mthe_sum\u001b[0m\u001b[1;33m,\u001b[0m \u001b[1;34m'ndim'\u001b[0m\u001b[1;33m,\u001b[0m \u001b[1;32mFalse\u001b[0m\u001b[1;33m)\u001b[0m\u001b[1;33m:\u001b[0m\u001b[1;33m\u001b[0m\u001b[1;33m\u001b[0m\u001b[0m\n",
      "\u001b[1;32m~\\Anaconda3\\lib\\site-packages\\pandas\\core\\nanops.py\u001b[0m in \u001b[0;36m_ensure_numeric\u001b[1;34m(x)\u001b[0m\n\u001b[0;32m   1168\u001b[0m             \u001b[1;32mexcept\u001b[0m \u001b[0mException\u001b[0m\u001b[1;33m:\u001b[0m\u001b[1;33m\u001b[0m\u001b[1;33m\u001b[0m\u001b[0m\n\u001b[0;32m   1169\u001b[0m                 raise TypeError('Could not convert {value!s} to numeric'\n\u001b[1;32m-> 1170\u001b[1;33m                                 .format(value=x))\n\u001b[0m\u001b[0;32m   1171\u001b[0m     \u001b[1;32mreturn\u001b[0m \u001b[0mx\u001b[0m\u001b[1;33m\u001b[0m\u001b[1;33m\u001b[0m\u001b[0m\n\u001b[0;32m   1172\u001b[0m \u001b[1;33m\u001b[0m\u001b[0m\n",
      "\u001b[1;31mTypeError\u001b[0m: Could not convert HIGHMEDIUMHIGHMEDIUMHIGHHIGHMEDIUMLOWLOWMEDIUMHIGHHIGHMEDIUMHIGHMEDIUMHIGHMEDIUMHIGHLOWLOWMEDIUMMEDIUMHIGHLOWLOWLOWMEDIUMMEDIUMHIGHMEDIUMMEDIUMHIGHMEDIUMHIGHHIGHHIGHLOWHIGHMEDIUMLOWHIGHMEDIUMHIGHMEDIUMMEDIUMMEDIUMLOWHIGHHIGHMEDIUMLOWLOWMEDIUMMEDIUMMEDIUMMEDIUMHIGHMEDIUMHIGHHIGHLOWHIGHMEDIUMMEDIUMMEDIUMMEDIUMLOWMEDIUMLOWMEDIUMMEDIUMHIGHLOWMEDIUMMEDIUMMEDIUMHIGHLOWMEDIUMLOWHIGHMEDIUMMEDIUMHIGHLOWMEDIUMMEDIUMLOWMEDIUMMEDIUMMEDIUMHIGHMEDIUMLOWMEDIUMMEDIUMHIGHMEDIUMMEDIUMLOWLOWLOWHIGHHIGHHIGHHIGHLOWMEDIUMMEDIUMMEDIUMMEDIUMHIGHMEDIUMHIGHHIGHLOWMEDIUMMEDIUMLOWHIGHMEDIUMMEDIUMMEDIUMMEDIUMLOWMEDIUMHIGHMEDIUMHIGHLOWLOWMEDIUMMEDIUMMEDIUMLOWLOWMEDIUMMEDIUMHIGHMEDIUMMEDIUMHIGHMEDIUMHIGHHIGHMEDIUMMEDIUMHIGHMEDIUMMEDIUMMEDIUMHIGHMEDIUMMEDIUMHIGHHIGHMEDIUMHIGHHIGHLOWHIGHLOWMEDIUMLOWHIGHHIGHHIGHHIGHHIGH to numeric"
     ]
    }
   ],
   "source": [
    "#Calculating the mean and standard deviation for each feature in each class\n",
    "train_0 = trainFinal.loc[trainFinal['Cost_Class'] == 0].drop(['Cost_Class','District'], axis = 1)\n",
    "train_1 = trainFinal.loc[trainFinal['Cost_Class'] == 1].drop(['Cost_Class','District'], axis = 1)\n",
    "stats_0 = []\n",
    "stats_1 = []\n",
    "for (columnName, columnData) in train_0.iteritems():\n",
    "    column_stat = [np.mean(columnData), np.std(columnData)]\n",
    "    stats_0.append(column_stat)\n",
    "for (columnName, columnData) in train_1.iteritems():\n",
    "    column_stat = [np.mean(columnData), np.std(columnData)]\n",
    "    stats_1.append(column_stat)"
   ]
  },
  {
   "cell_type": "code",
   "execution_count": 39,
   "metadata": {},
   "outputs": [],
   "source": [
    "#Calcualting probablility of class 0 and class 1\n",
    "p_0 = float(len(train_0))/len(trainFinal)\n",
    "p_1 = float(len(train_1))/len(trainFinal)"
   ]
  },
  {
   "cell_type": "code",
   "execution_count": 40,
   "metadata": {},
   "outputs": [],
   "source": [
    "#Function to find the probabilty of a test point belonging to class 0\n",
    "def p0_x(stats_0, x, p_0):\n",
    "    px_0 = 1\n",
    "    j=0\n",
    "    for i in stats_0:\n",
    "        px_0 *= stats.norm.pdf(x[j], i[0], i[1])\n",
    "        j+=1\n",
    "    px_0 *= p_0\n",
    "    return px_0"
   ]
  },
  {
   "cell_type": "code",
   "execution_count": 41,
   "metadata": {},
   "outputs": [],
   "source": [
    "##Function to find the probabilty of a test point belonging to class 1\n",
    "def p1_x(stats_1, x, p_1):\n",
    "    px_1 = 1\n",
    "    j=0\n",
    "    for i in stats_1:\n",
    "        px_1 *= stats.norm.pdf(x[j], i[0], i[1])\n",
    "        j+=1\n",
    "    px_1 *= p_1\n",
    "    return px_1"
   ]
  },
  {
   "cell_type": "code",
   "execution_count": 42,
   "metadata": {},
   "outputs": [
    {
     "name": "stdout",
     "output_type": "stream",
     "text": [
      "Precision = 1.000000\n",
      "Recall = 1.000000\n",
      "F1 score = 1.000000\n"
     ]
    }
   ],
   "source": [
    "#Testing the developed model on test data. F1 score is used as a measure of accuracy of the classifer. \n",
    "testData = testFinal.drop(['Cost_Class','District'],axis = 1).to_numpy()\n",
    "testDataClass = testFinal['Cost_Class'].copy().to_numpy()\n",
    "truePredicted = 0\n",
    "truePositive = 0\n",
    "totalTruePositive = 0\n",
    "for i in range(len(testData)):\n",
    "    p0 = p0_x(stats_0, testData[i], p_0)\n",
    "    p1 = p1_x(stats_1, testData[i], p_1)\n",
    "    if p0>p1:\n",
    "        predictedClass = 0\n",
    "    else:\n",
    "        predictedClass = 1\n",
    "    if predictedClass==testDataClass[i]:\n",
    "        truePredicted +=1\n",
    "    if predictedClass== testDataClass[i] and predictedClass ==0:\n",
    "        truePositive +=1\n",
    "    if testDataClass[i]==0:\n",
    "        totalTruePositive +=1\n",
    "precision = float(truePositive)/truePredicted\n",
    "recall = float(truePositive)/totalTruePositive\n",
    "f1_score = 2*precision*recall/(precision+recall)\n",
    "print(\"Precision = %f\" %precision)\n",
    "print(\"Recall = %f\" %recall)\n",
    "print(\"F1 score = %f\" %f1_score)"
   ]
  },
  {
   "cell_type": "code",
   "execution_count": null,
   "metadata": {},
   "outputs": [],
   "source": []
  },
  {
   "cell_type": "code",
   "execution_count": null,
   "metadata": {},
   "outputs": [],
   "source": []
  }
 ],
 "metadata": {
  "kernelspec": {
   "display_name": "Python 3",
   "language": "python",
   "name": "python3"
  },
  "language_info": {
   "codemirror_mode": {
    "name": "ipython",
    "version": 3
   },
   "file_extension": ".py",
   "mimetype": "text/x-python",
   "name": "python",
   "nbconvert_exporter": "python",
   "pygments_lexer": "ipython3",
   "version": "3.7.3"
  }
 },
 "nbformat": 4,
 "nbformat_minor": 2
}
